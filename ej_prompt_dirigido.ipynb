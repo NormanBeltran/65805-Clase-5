{
 "cells": [
  {
   "cell_type": "code",
   "execution_count": 1,
   "id": "46eb725b-642f-4781-9a1b-e946b9074498",
   "metadata": {},
   "outputs": [],
   "source": [
    "# Configuración de la API \n",
    "\n",
    "import openai\n",
    "import json\n",
    "\n",
    "def function_calling_one_function(API_KEY, query):\n",
    "  # Step 1: send the conversarion and available functions to GPT\n",
    "  functions = [\n",
    "      {\n",
    "          \"name\": \"Person_description\",\n",
    "          \"description\": \"Esta función permite obtener la edad y estatura de una persona desde una frase\",\n",
    "          \"parameters\": {\n",
    "              \"type\": \"object\",\n",
    "              \"properties\": {\n",
    "                  \"estatura\" : {\n",
    "                      \"type\": \"string\",\n",
    "                      \"description\": \"Retorna la estatura, solamente un numero expresado en metros o solamente null\"\n",
    "                  },\n",
    "                  \"edad\" : {\n",
    "                      \"type\": \"string\",\n",
    "                      \"description\": \"Retorna la edad, solamente un numero o solamente null\"\n",
    "                  },\n",
    "              }\n",
    "          },\n",
    "          \"required\": [\"estatura\", \"edad\"],\n",
    "      },\n",
    "  ]\n",
    "\n",
    "  openai.api_key = API_KEY\n",
    "  conversation = [\n",
    "    {\"role\": \"system\", \"content\": query},\n",
    "  ]\n",
    "  response = openai.ChatCompletion.create(\n",
    "    model='gpt-3.5-turbo',\n",
    "    messages=conversation,\n",
    "    functions=functions,\n",
    "    function_call=\"auto\",\n",
    "  )\n",
    "  response_message = response.choices[0]['message']\n",
    "  return response_message"
   ]
  },
  {
   "cell_type": "code",
   "execution_count": 2,
   "id": "277a2b27-6fec-4551-a0ba-f328d99ee9c1",
   "metadata": {},
   "outputs": [
    {
     "name": "stdout",
     "output_type": "stream",
     "text": [
      "{\n",
      "  \"role\": \"assistant\",\n",
      "  \"content\": null,\n",
      "  \"function_call\": {\n",
      "    \"name\": \"Person_description\",\n",
      "    \"arguments\": \"{\\\"edad\\\":\\\"15\\\",\\\"estatura\\\":\\\"1.88m\\\"}\"\n",
      "  }\n",
      "}\n"
     ]
    }
   ],
   "source": [
    "# Crear la solicitud invocando a la funcion anterior\n",
    "\n",
    "#api_key = \"\"\n",
    "consulta = 'Juan tiene 15 años le gusta jugar al futbol y al voley y hacer deporte al aire libre, y su estatura es de 1.88m lo cual le brinda ventajas particularmente en el voley'\n",
    "\n",
    "resultado = function_calling_one_function(api_key, consulta)\n",
    "print(resultado)"
   ]
  },
  {
   "cell_type": "code",
   "execution_count": null,
   "id": "6d108168-027c-493d-a90f-7633a0b04a21",
   "metadata": {},
   "outputs": [],
   "source": []
  }
 ],
 "metadata": {
  "kernelspec": {
   "display_name": "Python 3 (ipykernel)",
   "language": "python",
   "name": "python3"
  },
  "language_info": {
   "codemirror_mode": {
    "name": "ipython",
    "version": 3
   },
   "file_extension": ".py",
   "mimetype": "text/x-python",
   "name": "python",
   "nbconvert_exporter": "python",
   "pygments_lexer": "ipython3",
   "version": "3.12.2"
  }
 },
 "nbformat": 4,
 "nbformat_minor": 5
}
