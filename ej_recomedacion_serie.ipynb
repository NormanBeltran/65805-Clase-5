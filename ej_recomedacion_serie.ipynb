{
 "cells": [
  {
   "cell_type": "code",
   "execution_count": null,
   "id": "3330b5c2-3e8e-4fb7-a890-925529afae32",
   "metadata": {},
   "outputs": [],
   "source": [
    "import openai\n",
    "import json\n",
    "#openai.api_key = \"\""
   ]
  },
  {
   "cell_type": "code",
   "execution_count": null,
   "id": "49a3355e-5073-4374-813e-786f647bfeeb",
   "metadata": {},
   "outputs": [],
   "source": [
    "def get_recomendation_series(recomendation_quantity):\n",
    "    # Welcome print\n",
    "    print(\"¡Hola! Vamos a recomendarte algunas series. Responde las siguientes preguntas:\")\n",
    "\n",
    "    # Ask for a category\n",
    "    category = input(\"1. ¿Cuál es tu género favorito (drama, comedia, ciencia ficción, etc.)? \")\n",
    "\n",
    "    # Ask for a episode_time\n",
    "    episode_time = input(\"2. ¿Prefieres series con episodios cortos o largos? \")\n",
    "\n",
    "    # Ask for a tone\n",
    "    tone = input(\"3. ¿Te gustan las series con un tono ligero u oscuro? \")\n",
    "\n",
    "\n",
    "\n",
    "    # Make a request to get n reviews with the params\n",
    "    recomendations = []\n",
    "\n",
    "    for i in range(recomendation_quantity):\n",
    "\n",
    "        # Formatea las respuestas en un prompt para la API de OpenAI\n",
    "        prompt = f\"Recomienda solo el nombre de una serie de {category} con episodios {episode_time} y tono {tone} y que no sea alguna de las siguientes {recomendations}.\"\n",
    "        print(f\"Prompt {i+1}: {prompt}\")\n",
    "        conversation = [{\"role\": \"user\", \"content\": prompt}] # One request\n",
    "\n",
    "        # Make the request\n",
    "        response = openai.ChatCompletion.create(\n",
    "            model='gpt-3.5-turbo',\n",
    "            messages=[{\"role\": \"user\", \"content\": prompt}],\n",
    "            max_tokens=500\n",
    "        )\n",
    "\n",
    "        # Get the review and add to the array\n",
    "        recomendation = response.choices[0]['message']['content']\n",
    "        recomendations.append(recomendation)\n",
    "\n",
    "    # Make a dictionary with n reviews\n",
    "    result_json = {\n",
    "        \"category\": category,\n",
    "        \"episode_time\": episode_time,\n",
    "        \"tone\": tone,\n",
    "        \"recomendaciones\": recomendations\n",
    "    }\n",
    "\n",
    "    # Return in JSON format\n",
    "    return json.dumps(result_json, indent=2)"
   ]
  },
  {
   "cell_type": "code",
   "execution_count": null,
   "id": "f5757744-cb60-484b-aa10-c61382529b79",
   "metadata": {},
   "outputs": [],
   "source": [
    "# Make the request\n",
    "\n",
    "respuesta_json = get_recomendation_series(3)\n",
    "print(respuesta_json)"
   ]
  }
 ],
 "metadata": {
  "kernelspec": {
   "display_name": "Python 3 (ipykernel)",
   "language": "python",
   "name": "python3"
  },
  "language_info": {
   "codemirror_mode": {
    "name": "ipython",
    "version": 3
   },
   "file_extension": ".py",
   "mimetype": "text/x-python",
   "name": "python",
   "nbconvert_exporter": "python",
   "pygments_lexer": "ipython3",
   "version": "3.12.2"
  }
 },
 "nbformat": 4,
 "nbformat_minor": 5
}
