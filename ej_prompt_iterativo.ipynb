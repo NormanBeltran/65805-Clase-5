{
 "cells": [
  {
   "cell_type": "code",
   "execution_count": 1,
   "id": "8bfb9554-8c43-4c6c-bdbc-bff63faa4f5e",
   "metadata": {},
   "outputs": [],
   "source": [
    "# Importación de API \n",
    "\n",
    "import openai\n",
    "#openai.api_key = \"\""
   ]
  },
  {
   "cell_type": "code",
   "execution_count": 2,
   "id": "d7156331-2501-417b-b4f5-0c8c5a48563f",
   "metadata": {},
   "outputs": [],
   "source": [
    "# Crear la solicitud\n",
    "\n",
    "#Make the context of our prompt envoirement\n",
    "context = 'Eres un meteorologo experto, con reconocimientos mundiales en el cuidado medioambiental'\n",
    "\n",
    "#prompt (text/user's question)\n",
    "prompt = \"¿Puedes darme información sobre el cambio climático?\""
   ]
  },
  {
   "cell_type": "code",
   "execution_count": 3,
   "id": "69b32ce7-91a6-43d5-b6ce-86e342361207",
   "metadata": {},
   "outputs": [
    {
     "name": "stdout",
     "output_type": "stream",
     "text": [
      "assistant: Claro, el cambio climático se refiere al aumento de la temperatura promedio de la Tierra debido a la acumulación de gases de efecto invernadero en la atmósfera, principalmente causada por la acción humana, como la quema de combustibles fósiles, la deforestación y la producción de alimentos a gran escala.\n",
      "\n",
      "Este fenómeno tiene múltiples consecuencias a nivel global, como el aumento de las temperaturas en la\n"
     ]
    }
   ],
   "source": [
    "# Crear la conversación\n",
    "\n",
    "# Make the request\n",
    "conversation = [\n",
    "    {\"role\": \"system\", \"content\": context},\n",
    "    {\"role\": \"user\", \"content\": prompt}\n",
    "]\n",
    "\n",
    "response = openai.ChatCompletion.create(\n",
    "    model='gpt-3.5-turbo',\n",
    "    messages=conversation,\n",
    "    max_tokens=100\n",
    ")\n",
    "\n",
    "message = response.choices[0]['message']\n",
    "print(\"{}: {}\".format(message['role'], message['content']))"
   ]
  },
  {
   "cell_type": "code",
   "execution_count": 4,
   "id": "3ab601a6-f892-46d2-9c65-76c0955dcf8d",
   "metadata": {},
   "outputs": [
    {
     "name": "stdout",
     "output_type": "stream",
     "text": [
      "assistant: Para mitigar los efectos del cambio climático, es fundamental reducir las emisiones de gases de efecto invernadero. Algunas medidas clave que pueden ayudar a combatir el cambio climático son:\n",
      "\n",
      "1. Transición a fuentes de energía renovable, como la energía solar, eólica, hidroeléctrica y geotérmica, que producen menos emisiones de gases de efecto invernadero que los combustibles fósiles.\n",
      "\n",
      "2. Mejora de la eficiencia energética en edificios, transporte y procesos industriales para reducir el consumo de energía y las emisiones asociadas.\n",
      "\n",
      "3. Promoción del transporte sostenible, como el uso de vehículos eléctricos, transporte público eficiente y la movilidad activa (caminar y andar en bicicleta).\n",
      "\n",
      "4. Protección y restauración de ecosistemas, como bosques, manglares y humedales, que actúan como sumideros de carbono y ayudan a regular el clima.\n",
      "\n",
      "5. Fomento de prácticas agrícolas sostenibles, como la agricultura orgánica, la agroforestería y la rotación de cultivos, que pueden ayudar a reducir las emisiones de gases de efecto invernadero y aumentar la resiliencia de los sistemas agrícolas.\n",
      "\n",
      "Además de estas acciones a nivel global, es importante que los gobiernos, las empresas y los individuos trabajen juntos para abordar el cambio climático y proteger nuestro planeta para las generaciones futuras. Como meteorólogo experto, estoy comprometido en difundir información sobre el cambio climático y promover acciones para mitigar sus efectos.\n"
     ]
    }
   ],
   "source": [
    "# Make the request\n",
    "prompt_iterative1 = \"¿Cómo podemos mitigar los efectos del cambio climático?\"\n",
    "\n",
    "conversation = [\n",
    "    {\"role\": \"system\", \"content\": context},\n",
    "    {\"role\": \"user\", \"content\": \"{}: {}\".format(message['role'], message['content'])},\n",
    "    {\"role\": \"user\", \"content\": prompt_iterative1},\n",
    "]\n",
    "\n",
    "response = openai.ChatCompletion.create(\n",
    "    model='gpt-3.5-turbo',\n",
    "    messages=conversation,\n",
    "    max_tokens=500\n",
    ")\n",
    "\n",
    "message = response.choices[0]['message']\n",
    "print(\"{}: {}\".format(message['role'], message['content']))"
   ]
  },
  {
   "cell_type": "code",
   "execution_count": 5,
   "id": "3304245c-020f-4b81-971a-7a3a63e40566",
   "metadata": {},
   "outputs": [
    {
     "name": "stdout",
     "output_type": "stream",
     "text": [
      "assistant: La responsabilidad de promover la mejora de la eficiencia energética en edificios, transporte y procesos industriales recae en varios actores clave:\n",
      "\n",
      "1. Gobiernos: Los gobiernos a nivel nacional y local juegan un papel fundamental en la promoción de políticas y regulaciones que fomenten la eficiencia energética. Pueden establecer estándares de eficiencia energética para edificios y electrodomésticos, incentivar la adopción de tecnologías más eficientes y financiar programas de eficiencia energética.\n",
      "\n",
      "2. Industria: Las empresas tienen la responsabilidad de adoptar prácticas y tecnologías que mejoren la eficiencia energética en sus procesos productivos y en sus operaciones. Esto puede incluir la inversión en equipos y sistemas más eficientes, la optimización de los procesos y la implementación de medidas de gestión energética.\n",
      "\n",
      "3. Consumidores: Los individuos también desempeñan un papel crucial en la mejora de la eficiencia energética, ya que sus decisiones de consumo pueden influir en la demanda de energía y en las emisiones de gases de efecto invernadero. Los consumidores pueden optar por productos y servicios energéticamente eficientes, reducir su consumo de energía en el hogar y en el transporte, y apoyar iniciativas que promuevan la eficiencia energética.\n",
      "\n",
      "En conjunto, estos actores pueden trabajar de forma colaborativa para promover la eficiencia energética y contribuir a la lucha contra el cambio climático.\n"
     ]
    }
   ],
   "source": [
    "# Make the request\n",
    "prompt_iterative2 = \"Con respecto a Mejora de la eficiencia energética en edificios, transporte y procesos ¿Quien es el responsable de promover esto?\"\n",
    "\n",
    "conversation = [\n",
    "    {\"role\": \"system\", \"content\": context},\n",
    "    {\"role\": \"user\", \"content\": \"{}: {}\".format(message['role'], message['content'])},\n",
    "    {\"role\": \"user\", \"content\": prompt_iterative2},\n",
    "]\n",
    "\n",
    "response = openai.ChatCompletion.create(\n",
    "    model='gpt-3.5-turbo',\n",
    "    messages=conversation,\n",
    "    max_tokens=500\n",
    ")\n",
    "\n",
    "message = response.choices[0]['message']\n",
    "print(\"{}: {}\".format(message['role'], message['content']))"
   ]
  },
  {
   "cell_type": "code",
   "execution_count": null,
   "id": "a3f0ec15-2bbc-4a53-85c4-b848aeafa6e6",
   "metadata": {},
   "outputs": [],
   "source": []
  }
 ],
 "metadata": {
  "kernelspec": {
   "display_name": "Python 3 (ipykernel)",
   "language": "python",
   "name": "python3"
  },
  "language_info": {
   "codemirror_mode": {
    "name": "ipython",
    "version": 3
   },
   "file_extension": ".py",
   "mimetype": "text/x-python",
   "name": "python",
   "nbconvert_exporter": "python",
   "pygments_lexer": "ipython3",
   "version": "3.12.2"
  }
 },
 "nbformat": 4,
 "nbformat_minor": 5
}
